{
 "cells": [
  {
   "cell_type": "markdown",
   "id": "f0a55fd7-881c-4bbd-a442-08d34a3cecca",
   "metadata": {},
   "source": [
    "# my personal library manager"
   ]
  },
  {
   "cell_type": "code",
   "execution_count": 24,
   "id": "45e4f8e9-8516-4b3b-be95-47ed4a373d26",
   "metadata": {},
   "outputs": [],
   "source": [
    "import os #import os to interact with the computer os=operating system"
   ]
  },
  {
   "cell_type": "code",
   "execution_count": 25,
   "id": "dc58299a-8a80-4938-aed0-66ad8aadb1bd",
   "metadata": {},
   "outputs": [],
   "source": [
    "library=[] #list to hold dictionary"
   ]
  },
  {
   "cell_type": "code",
   "execution_count": 49,
   "id": "a05a76e7-df9e-4e5b-878f-4b515375ef85",
   "metadata": {},
   "outputs": [],
   "source": [
    "def add_books(title,author,genre,year,status=\"unread\"):\n",
    "    book={\n",
    "        \"title\":title.strip(),\n",
    "        \"author\":author.strip(),\n",
    "        \"genre\":genre.strip(),\n",
    "        \"year\":int(year),\n",
    "        \"status\":status.lower()\n",
    "    }\n",
    "    library.append(book)#append=for single argument,extend=for multiple arguments.\n",
    "    print(f\"Book '{title}' added.\")"
   ]
  },
  {
   "cell_type": "code",
   "execution_count": 50,
   "id": "450cd2b9-1704-4d0f-b0a3-a4becdfb5b64",
   "metadata": {},
   "outputs": [],
   "source": [
    "def list_books(sorted_by_year=False):\n",
    "    if not library:\n",
    "        print(\"Library is empty.\")\n",
    "        return\n",
    "    books = sorted(library, key=lambda x: x['year']) if sorted_by_year else library#taking the reference from library.\n",
    "    for idx, book in enumerate(books, start=1):\n",
    "        print(f\"{idx}. {book['title']} by {book['author']} [{book['genre']}, {book['year']}] - {book['status'].capitalize()}\")\n",
    "    "
   ]
  },
  {
   "cell_type": "code",
   "execution_count": 51,
   "id": "281a79d4-d2b9-4fac-b1f6-8603831db207",
   "metadata": {},
   "outputs": [],
   "source": [
    "#  Function Search by Author\n",
    "def search_by_author(author_name):\n",
    "    return [book for book in library if author_name.lower() in book['author'].lower()]"
   ]
  },
  {
   "cell_type": "code",
   "execution_count": 52,
   "id": "7089d465-dfff-43b7-b11e-48398a10eeef",
   "metadata": {},
   "outputs": [],
   "source": [
    "#  Function to Delete Book\n",
    "def delete_book(title):\n",
    "    global library\n",
    "    library = list(filter(lambda book: book['title'].lower() != title.lower(), library))\n",
    "    print(f\"Book titled '{title}' has been removed if it existed.\")"
   ]
  },
  {
   "cell_type": "code",
   "execution_count": 53,
   "id": "c61c9cbe-d87f-498d-b0e9-5531edf573d4",
   "metadata": {},
   "outputs": [],
   "source": [
    "# Show Reading Summary\n",
    "def show_reading_summary():\n",
    "    if not library:\n",
    "        print(\"No books in library.\")\n",
    "        return\n",
    "    read = len(list(filter(lambda x: x['status'] == 'read', library)))\n",
    "    unread = len(library) - read\n",
    "    print(f\"Read: {read} books ({(read/len(library))*100:.2f}%)\")\n",
    "    print(f\"Unread: {unread} books ({(unread/len(library))*100:.2f}%)\")"
   ]
  },
  {
   "cell_type": "code",
   "execution_count": 54,
   "id": "19b03d7e-63fd-4297-abf2-37942e7d83d5",
   "metadata": {},
   "outputs": [],
   "source": [
    "#  Convert Titles of the Books to Capital Letter\n",
    "def uppercase_titles():\n",
    "    titles = list(map(lambda b: b['title'].upper(), library))\n",
    "    print(\"Book Titles (UPPERCASE):\")\n",
    "    for title in titles:\n",
    "        print(\"-\", title)"
   ]
  },
  {
   "cell_type": "code",
   "execution_count": 55,
   "id": "fd30cc51-561c-42f8-868e-2a080a415405",
   "metadata": {},
   "outputs": [],
   "source": [
    "#  Function to Save library of books to a file\n",
    "def save_to_file(filename):\n",
    "    try:\n",
    "        with open(filename, 'w') as f:\n",
    "            for book in library:\n",
    "                line = f\"{book['title']},{book['author']},{book['genre']},{book['year']},{book['status']}\"\n",
    "                f.write(line)\n",
    "        print(f\"Saved {len(library)} books to {filename}\")  # After saving all the books, this line prints a confirmation message.It says how many books were saved and the name of the file.\n",
    "    except Exception as e:\n",
    "        print(\"Error saving file:\", e)"
   ]
  },
  {
   "cell_type": "code",
   "execution_count": 56,
   "id": "50d49b55-3f88-4e3c-9efc-b28ccbce438a",
   "metadata": {},
   "outputs": [],
   "source": [
    "\n",
    "#  Loading Book Data from a File\n",
    "def load_from_file(filename):\n",
    "    if not os.path.exists(filename):\n",
    "        print(\"File not found. Starting with an empty library.\")\n",
    "        return\n",
    "    try:\n",
    "        with open(filename, 'r') as f:\n",
    "            for line in f:\n",
    "                title, author, genre, year, status = line.strip().split(',')\n",
    "                add_book(title, author, genre, int(year), status)\n",
    "    except Exception as e:\n",
    "        print(\"Error reading file:\", e)"
   ]
  },
  {
   "cell_type": "code",
   "execution_count": 59,
   "id": "fab88a1c-b561-4e43-8696-e3c250974715",
   "metadata": {},
   "outputs": [],
   "source": [
    "# Building the Menu Function for Your Library App\n",
    "def menu():\n",
    "    while True:\n",
    "        print(\"\\n--- Personal Library Menu ---\")\n",
    "        print(\"1. Add Book\")\n",
    "        print(\"2. List All Books\")\n",
    "        print(\"3. List Books Sorted by Year\")\n",
    "        print(\"4. Search by Author\")\n",
    "        print(\"5. Delete Book by Title\")\n",
    "        print(\"6. Show Reading Summary\")\n",
    "        print(\"7. Show UPPERCASE Book Titles (map)\")\n",
    "        print(\"8. Save Library\")\n",
    "        print(\"9. Load Library\")\n",
    "        print(\"10. Exit\")\n",
    "        choice = input(\"Choose an option: \")\n",
    "\n",
    "        if choice == \"1\":\n",
    "            title = input(\"Title: \")\n",
    "            author = input(\"Author: \")\n",
    "            genre = input(\"Genre: \")\n",
    "            year = input(\"Year: \")\n",
    "            status = input(\"Status (read/unread): \")\n",
    "            add_books(title, author, genre, year, status)\n",
    "        elif choice == \"2\":\n",
    "            list_books()\n",
    "        elif choice == \"3\":\n",
    "            list_books(sorted_by_year=True)\n",
    "        elif choice == \"4\":\n",
    "            author = input(\"Enter author name: \")\n",
    "            results = search_by_author(author)\n",
    "            print(f\"\\n Found {len(results)} books by {author}:\")\n",
    "            for book in results:\n",
    "                print(f\"- {book['title']} ({book['year']})\")\n",
    "        elif choice == \"5\":\n",
    "            title = input(\"Enter title to delete: \")\n",
    "            delete_book(title)\n",
    "        elif choice == \"6\":\n",
    "            show_reading_summary()\n",
    "        elif choice == \"7\":\n",
    "            uppercase_titles()\n",
    "        elif choice == \"8\":\n",
    "            save_to_file(\"books_data.txt\")\n",
    "        elif choice == \"9\":\n",
    "            load_from_file(\"books_data.txt\")\n",
    "        elif choice == \"10\":\n",
    "            print(\"Goodbye!\")\n",
    "            break\n",
    "        else:\n",
    "            print(\"Invalid option. Try again.\")\n"
   ]
  },
  {
   "cell_type": "code",
   "execution_count": null,
   "id": "76808ec2-58b3-487c-b8e5-aafbe6522c14",
   "metadata": {},
   "outputs": [
    {
     "name": "stdout",
     "output_type": "stream",
     "text": [
      "\n",
      "--- Personal Library Menu ---\n",
      "1. Add Book\n",
      "2. List All Books\n",
      "3. List Books Sorted by Year\n",
      "4. Search by Author\n",
      "5. Delete Book by Title\n",
      "6. Show Reading Summary\n",
      "7. Show UPPERCASE Book Titles (map)\n",
      "8. Save Library\n",
      "9. Load Library\n",
      "10. Exit\n"
     ]
    },
    {
     "name": "stdin",
     "output_type": "stream",
     "text": [
      "Choose an option:  1\n",
      "Title:  siddhu\n",
      "Author:  teja\n",
      "Genre:  horror\n",
      "Year:  2024\n",
      "Status (read/unread):  read\n"
     ]
    },
    {
     "name": "stdout",
     "output_type": "stream",
     "text": [
      "Book 'siddhu' added.\n",
      "\n",
      "--- Personal Library Menu ---\n",
      "1. Add Book\n",
      "2. List All Books\n",
      "3. List Books Sorted by Year\n",
      "4. Search by Author\n",
      "5. Delete Book by Title\n",
      "6. Show Reading Summary\n",
      "7. Show UPPERCASE Book Titles (map)\n",
      "8. Save Library\n",
      "9. Load Library\n",
      "10. Exit\n"
     ]
    },
    {
     "name": "stdin",
     "output_type": "stream",
     "text": [
      "Choose an option:  2\n"
     ]
    },
    {
     "name": "stdout",
     "output_type": "stream",
     "text": [
      "1. siddhu by teja [horror, 2024] - Read\n",
      "\n",
      "--- Personal Library Menu ---\n",
      "1. Add Book\n",
      "2. List All Books\n",
      "3. List Books Sorted by Year\n",
      "4. Search by Author\n",
      "5. Delete Book by Title\n",
      "6. Show Reading Summary\n",
      "7. Show UPPERCASE Book Titles (map)\n",
      "8. Save Library\n",
      "9. Load Library\n",
      "10. Exit\n"
     ]
    }
   ],
   "source": [
    "\n",
    "if __name__ == \"__main__\": # This line checks how the Python file is being run.\n",
    "    menu()\n"
   ]
  },
  {
   "cell_type": "code",
   "execution_count": null,
   "id": "821e440a-7089-482a-b04c-7747829056a8",
   "metadata": {},
   "outputs": [],
   "source": []
  }
 ],
 "metadata": {
  "kernelspec": {
   "display_name": "Python 3 (ipykernel)",
   "language": "python",
   "name": "python3"
  },
  "language_info": {
   "codemirror_mode": {
    "name": "ipython",
    "version": 3
   },
   "file_extension": ".py",
   "mimetype": "text/x-python",
   "name": "python",
   "nbconvert_exporter": "python",
   "pygments_lexer": "ipython3",
   "version": "3.13.5"
  }
 },
 "nbformat": 4,
 "nbformat_minor": 5
}
